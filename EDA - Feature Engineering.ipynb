{
 "cells": [
  {
   "cell_type": "code",
   "execution_count": 1,
   "metadata": {},
   "outputs": [],
   "source": [
    "import pandas as pd\n",
    "import numpy as np\n",
    "import matplotlib.pyplot as plt\n",
    "import seaborn as sns\n",
    "\n",
    "import warnings\n",
    "warnings.filterwarnings(\"ignore\")\n",
    "warnings.filterwarnings(\"ignore\", category=DeprecationWarning) "
   ]
  },
  {
   "cell_type": "code",
   "execution_count": 8,
   "metadata": {},
   "outputs": [
    {
     "name": "stdout",
     "output_type": "stream",
     "text": [
      "Requirement already satisfied: pyarrow in c:\\users\\pavilion\\appdata\\local\\programs\\python\\python310\\lib\\site-packages (10.0.1)\n",
      "Requirement already satisfied: numpy>=1.16.6 in c:\\users\\pavilion\\appdata\\local\\programs\\python\\python310\\lib\\site-packages (from pyarrow) (1.23.3)\n",
      "Note: you may need to restart the kernel to use updated packages.\n"
     ]
    },
    {
     "name": "stderr",
     "output_type": "stream",
     "text": [
      "WARNING: You are using pip version 22.0.4; however, version 22.3.1 is available.\n",
      "You should consider upgrading via the 'c:\\Users\\PAVILION\\AppData\\Local\\Programs\\Python\\Python310\\python.exe -m pip install --upgrade pip' command.\n"
     ]
    }
   ],
   "source": [
    "pip install pyarrow"
   ]
  },
  {
   "cell_type": "code",
   "execution_count": 35,
   "metadata": {},
   "outputs": [],
   "source": [
    "df_test = pd.read_parquet('test.parquet', engine= 'auto')\n",
    "df_train = pd.read_parquet('train.parquet')"
   ]
  },
  {
   "cell_type": "code",
   "execution_count": 3,
   "metadata": {},
   "outputs": [],
   "source": [
    "# Leemos los Parquet con Pandas"
   ]
  },
  {
   "cell_type": "code",
   "execution_count": 36,
   "metadata": {},
   "outputs": [
    {
     "data": {
      "text/html": [
       "<div>\n",
       "<style scoped>\n",
       "    .dataframe tbody tr th:only-of-type {\n",
       "        vertical-align: middle;\n",
       "    }\n",
       "\n",
       "    .dataframe tbody tr th {\n",
       "        vertical-align: top;\n",
       "    }\n",
       "\n",
       "    .dataframe thead th {\n",
       "        text-align: right;\n",
       "    }\n",
       "</style>\n",
       "<table border=\"1\" class=\"dataframe\">\n",
       "  <thead>\n",
       "    <tr style=\"text-align: right;\">\n",
       "      <th></th>\n",
       "      <th>id</th>\n",
       "      <th>url</th>\n",
       "      <th>region</th>\n",
       "      <th>region_url</th>\n",
       "      <th>price</th>\n",
       "      <th>type</th>\n",
       "      <th>sqfeet</th>\n",
       "      <th>beds</th>\n",
       "      <th>baths</th>\n",
       "      <th>cats_allowed</th>\n",
       "      <th>...</th>\n",
       "      <th>wheelchair_access</th>\n",
       "      <th>electric_vehicle_charge</th>\n",
       "      <th>comes_furnished</th>\n",
       "      <th>laundry_options</th>\n",
       "      <th>parking_options</th>\n",
       "      <th>image_url</th>\n",
       "      <th>description</th>\n",
       "      <th>lat</th>\n",
       "      <th>long</th>\n",
       "      <th>state</th>\n",
       "    </tr>\n",
       "  </thead>\n",
       "  <tbody>\n",
       "    <tr>\n",
       "      <th>0</th>\n",
       "      <td>7048013474</td>\n",
       "      <td>https://boise.craigslist.org/apa/d/very-nice-b...</td>\n",
       "      <td>boise</td>\n",
       "      <td>https://boise.craigslist.org</td>\n",
       "      <td>1350</td>\n",
       "      <td>house</td>\n",
       "      <td>1200</td>\n",
       "      <td>2</td>\n",
       "      <td>2.0</td>\n",
       "      <td>1</td>\n",
       "      <td>...</td>\n",
       "      <td>0</td>\n",
       "      <td>0</td>\n",
       "      <td>0</td>\n",
       "      <td>w/d in unit</td>\n",
       "      <td>detached garage</td>\n",
       "      <td>https://images.craigslist.org/00B0B_cPiJMEheZe...</td>\n",
       "      <td>Super cute row house in the Boise bench area. ...</td>\n",
       "      <td>43.5851</td>\n",
       "      <td>-116.2250</td>\n",
       "      <td>id</td>\n",
       "    </tr>\n",
       "    <tr>\n",
       "      <th>1</th>\n",
       "      <td>7043931179</td>\n",
       "      <td>https://cosprings.craigslist.org/apa/d/colorad...</td>\n",
       "      <td>colorado springs</td>\n",
       "      <td>https://cosprings.craigslist.org</td>\n",
       "      <td>1115</td>\n",
       "      <td>apartment</td>\n",
       "      <td>694</td>\n",
       "      <td>1</td>\n",
       "      <td>1.0</td>\n",
       "      <td>1</td>\n",
       "      <td>...</td>\n",
       "      <td>0</td>\n",
       "      <td>0</td>\n",
       "      <td>0</td>\n",
       "      <td>w/d in unit</td>\n",
       "      <td>carport</td>\n",
       "      <td>https://images.craigslist.org/00R0R_5XAoSKvfrz...</td>\n",
       "      <td>Windtree Apartment Homes currently has a spaci...</td>\n",
       "      <td>38.9137</td>\n",
       "      <td>-104.7800</td>\n",
       "      <td>co</td>\n",
       "    </tr>\n",
       "    <tr>\n",
       "      <th>2</th>\n",
       "      <td>7048254516</td>\n",
       "      <td>https://norfolk.craigslist.org/apa/d/virginia-...</td>\n",
       "      <td>norfolk / hampton roads</td>\n",
       "      <td>https://norfolk.craigslist.org</td>\n",
       "      <td>1129</td>\n",
       "      <td>apartment</td>\n",
       "      <td>900</td>\n",
       "      <td>2</td>\n",
       "      <td>2.0</td>\n",
       "      <td>0</td>\n",
       "      <td>...</td>\n",
       "      <td>0</td>\n",
       "      <td>0</td>\n",
       "      <td>0</td>\n",
       "      <td>w/d hookups</td>\n",
       "      <td>off-street parking</td>\n",
       "      <td>https://images.craigslist.org/00f0f_3ZbTFrsHpZ...</td>\n",
       "      <td>Call Today!  show contact info   Indian Lakes ...</td>\n",
       "      <td>36.7922</td>\n",
       "      <td>-76.1643</td>\n",
       "      <td>va</td>\n",
       "    </tr>\n",
       "    <tr>\n",
       "      <th>3</th>\n",
       "      <td>7041032577</td>\n",
       "      <td>https://phoenix.craigslist.org/nph/apa/d/phoen...</td>\n",
       "      <td>phoenix</td>\n",
       "      <td>https://phoenix.craigslist.org</td>\n",
       "      <td>1580</td>\n",
       "      <td>house</td>\n",
       "      <td>1469</td>\n",
       "      <td>3</td>\n",
       "      <td>2.0</td>\n",
       "      <td>1</td>\n",
       "      <td>...</td>\n",
       "      <td>0</td>\n",
       "      <td>0</td>\n",
       "      <td>0</td>\n",
       "      <td>w/d in unit</td>\n",
       "      <td>None</td>\n",
       "      <td>https://images.craigslist.org/00f0f_aXV5Dkd5qk...</td>\n",
       "      <td>Cody Anderson Two Brothers Realty License #: S...</td>\n",
       "      <td>33.5623</td>\n",
       "      <td>-112.0560</td>\n",
       "      <td>az</td>\n",
       "    </tr>\n",
       "    <tr>\n",
       "      <th>4</th>\n",
       "      <td>7048588701</td>\n",
       "      <td>https://nashville.craigslist.org/apa/d/antioch...</td>\n",
       "      <td>nashville</td>\n",
       "      <td>https://nashville.craigslist.org</td>\n",
       "      <td>995</td>\n",
       "      <td>apartment</td>\n",
       "      <td>700</td>\n",
       "      <td>1</td>\n",
       "      <td>1.0</td>\n",
       "      <td>1</td>\n",
       "      <td>...</td>\n",
       "      <td>0</td>\n",
       "      <td>0</td>\n",
       "      <td>0</td>\n",
       "      <td>w/d in unit</td>\n",
       "      <td>carport</td>\n",
       "      <td>https://images.craigslist.org/00606_gYOGKClOHv...</td>\n",
       "      <td>To schedule a tour We now book our tour appoin...</td>\n",
       "      <td>36.0595</td>\n",
       "      <td>-86.6592</td>\n",
       "      <td>tn</td>\n",
       "    </tr>\n",
       "  </tbody>\n",
       "</table>\n",
       "<p>5 rows × 22 columns</p>\n",
       "</div>"
      ],
      "text/plain": [
       "           id                                                url  \\\n",
       "0  7048013474  https://boise.craigslist.org/apa/d/very-nice-b...   \n",
       "1  7043931179  https://cosprings.craigslist.org/apa/d/colorad...   \n",
       "2  7048254516  https://norfolk.craigslist.org/apa/d/virginia-...   \n",
       "3  7041032577  https://phoenix.craigslist.org/nph/apa/d/phoen...   \n",
       "4  7048588701  https://nashville.craigslist.org/apa/d/antioch...   \n",
       "\n",
       "                    region                        region_url  price  \\\n",
       "0                    boise      https://boise.craigslist.org   1350   \n",
       "1         colorado springs  https://cosprings.craigslist.org   1115   \n",
       "2  norfolk / hampton roads    https://norfolk.craigslist.org   1129   \n",
       "3                  phoenix    https://phoenix.craigslist.org   1580   \n",
       "4                nashville  https://nashville.craigslist.org    995   \n",
       "\n",
       "        type  sqfeet  beds  baths  cats_allowed  ...  wheelchair_access  \\\n",
       "0      house    1200     2    2.0             1  ...                  0   \n",
       "1  apartment     694     1    1.0             1  ...                  0   \n",
       "2  apartment     900     2    2.0             0  ...                  0   \n",
       "3      house    1469     3    2.0             1  ...                  0   \n",
       "4  apartment     700     1    1.0             1  ...                  0   \n",
       "\n",
       "   electric_vehicle_charge  comes_furnished  laundry_options  \\\n",
       "0                        0                0      w/d in unit   \n",
       "1                        0                0      w/d in unit   \n",
       "2                        0                0      w/d hookups   \n",
       "3                        0                0      w/d in unit   \n",
       "4                        0                0      w/d in unit   \n",
       "\n",
       "      parking_options                                          image_url  \\\n",
       "0     detached garage  https://images.craigslist.org/00B0B_cPiJMEheZe...   \n",
       "1             carport  https://images.craigslist.org/00R0R_5XAoSKvfrz...   \n",
       "2  off-street parking  https://images.craigslist.org/00f0f_3ZbTFrsHpZ...   \n",
       "3                None  https://images.craigslist.org/00f0f_aXV5Dkd5qk...   \n",
       "4             carport  https://images.craigslist.org/00606_gYOGKClOHv...   \n",
       "\n",
       "                                         description      lat      long  state  \n",
       "0  Super cute row house in the Boise bench area. ...  43.5851 -116.2250     id  \n",
       "1  Windtree Apartment Homes currently has a spaci...  38.9137 -104.7800     co  \n",
       "2  Call Today!  show contact info   Indian Lakes ...  36.7922  -76.1643     va  \n",
       "3  Cody Anderson Two Brothers Realty License #: S...  33.5623 -112.0560     az  \n",
       "4  To schedule a tour We now book our tour appoin...  36.0595  -86.6592     tn  \n",
       "\n",
       "[5 rows x 22 columns]"
      ]
     },
     "execution_count": 36,
     "metadata": {},
     "output_type": "execute_result"
    }
   ],
   "source": [
    "df_train.head()"
   ]
  },
  {
   "cell_type": "code",
   "execution_count": 37,
   "metadata": {},
   "outputs": [
    {
     "data": {
      "text/html": [
       "<div>\n",
       "<style scoped>\n",
       "    .dataframe tbody tr th:only-of-type {\n",
       "        vertical-align: middle;\n",
       "    }\n",
       "\n",
       "    .dataframe tbody tr th {\n",
       "        vertical-align: top;\n",
       "    }\n",
       "\n",
       "    .dataframe thead th {\n",
       "        text-align: right;\n",
       "    }\n",
       "</style>\n",
       "<table border=\"1\" class=\"dataframe\">\n",
       "  <thead>\n",
       "    <tr style=\"text-align: right;\">\n",
       "      <th></th>\n",
       "      <th>id</th>\n",
       "      <th>url</th>\n",
       "      <th>region</th>\n",
       "      <th>region_url</th>\n",
       "      <th>type</th>\n",
       "      <th>sqfeet</th>\n",
       "      <th>beds</th>\n",
       "      <th>baths</th>\n",
       "      <th>cats_allowed</th>\n",
       "      <th>dogs_allowed</th>\n",
       "      <th>...</th>\n",
       "      <th>wheelchair_access</th>\n",
       "      <th>electric_vehicle_charge</th>\n",
       "      <th>comes_furnished</th>\n",
       "      <th>laundry_options</th>\n",
       "      <th>parking_options</th>\n",
       "      <th>image_url</th>\n",
       "      <th>description</th>\n",
       "      <th>lat</th>\n",
       "      <th>long</th>\n",
       "      <th>state</th>\n",
       "    </tr>\n",
       "  </thead>\n",
       "  <tbody>\n",
       "    <tr>\n",
       "      <th>0</th>\n",
       "      <td>7037609789</td>\n",
       "      <td>https://annarbor.craigslist.org/apa/d/wixom-ho...</td>\n",
       "      <td>ann arbor</td>\n",
       "      <td>https://annarbor.craigslist.org</td>\n",
       "      <td>manufactured</td>\n",
       "      <td>1344</td>\n",
       "      <td>3</td>\n",
       "      <td>2.0</td>\n",
       "      <td>0</td>\n",
       "      <td>0</td>\n",
       "      <td>...</td>\n",
       "      <td>0</td>\n",
       "      <td>0</td>\n",
       "      <td>0</td>\n",
       "      <td>w/d in unit</td>\n",
       "      <td>off-street parking</td>\n",
       "      <td>https://images.craigslist.org/00M0M_iNczP1nzIL...</td>\n",
       "      <td>OPEN HOUSE TODAY! APPLY THIS WEEK, PUT A HOLDI...</td>\n",
       "      <td>42.5333</td>\n",
       "      <td>-83.5763</td>\n",
       "      <td>mi</td>\n",
       "    </tr>\n",
       "    <tr>\n",
       "      <th>1</th>\n",
       "      <td>7032406876</td>\n",
       "      <td>https://vermont.craigslist.org/apa/d/randolph-...</td>\n",
       "      <td>vermont</td>\n",
       "      <td>https://vermont.craigslist.org</td>\n",
       "      <td>apartment</td>\n",
       "      <td>1050</td>\n",
       "      <td>2</td>\n",
       "      <td>1.0</td>\n",
       "      <td>0</td>\n",
       "      <td>0</td>\n",
       "      <td>...</td>\n",
       "      <td>0</td>\n",
       "      <td>0</td>\n",
       "      <td>0</td>\n",
       "      <td>w/d hookups</td>\n",
       "      <td>off-street parking</td>\n",
       "      <td>https://images.craigslist.org/00L0L_ecirmYBIzL...</td>\n",
       "      <td>Think of it, you'll be first to get your mail....</td>\n",
       "      <td>43.9393</td>\n",
       "      <td>-72.5538</td>\n",
       "      <td>vt</td>\n",
       "    </tr>\n",
       "    <tr>\n",
       "      <th>2</th>\n",
       "      <td>7037022682</td>\n",
       "      <td>https://annarbor.craigslist.org/apa/d/ann-arbo...</td>\n",
       "      <td>ann arbor</td>\n",
       "      <td>https://annarbor.craigslist.org</td>\n",
       "      <td>apartment</td>\n",
       "      <td>1150</td>\n",
       "      <td>2</td>\n",
       "      <td>2.0</td>\n",
       "      <td>1</td>\n",
       "      <td>1</td>\n",
       "      <td>...</td>\n",
       "      <td>1</td>\n",
       "      <td>0</td>\n",
       "      <td>0</td>\n",
       "      <td>w/d in unit</td>\n",
       "      <td>carport</td>\n",
       "      <td>https://images.craigslist.org/00e0e_dPln2xjo9g...</td>\n",
       "      <td>One of Ann Arbor's most luxurious apartment co...</td>\n",
       "      <td>42.2492</td>\n",
       "      <td>-83.7712</td>\n",
       "      <td>mi</td>\n",
       "    </tr>\n",
       "    <tr>\n",
       "      <th>3</th>\n",
       "      <td>7048681802</td>\n",
       "      <td>https://fortcollins.craigslist.org/apa/d/fort-...</td>\n",
       "      <td>fort collins / north CO</td>\n",
       "      <td>https://fortcollins.craigslist.org</td>\n",
       "      <td>apartment</td>\n",
       "      <td>1280</td>\n",
       "      <td>2</td>\n",
       "      <td>2.5</td>\n",
       "      <td>1</td>\n",
       "      <td>1</td>\n",
       "      <td>...</td>\n",
       "      <td>0</td>\n",
       "      <td>0</td>\n",
       "      <td>0</td>\n",
       "      <td>w/d in unit</td>\n",
       "      <td>attached garage</td>\n",
       "      <td>https://images.craigslist.org/00L0L_jlektT5cSd...</td>\n",
       "      <td>Specials! Move in before January 16th, 2020 an...</td>\n",
       "      <td>40.5501</td>\n",
       "      <td>-105.0350</td>\n",
       "      <td>co</td>\n",
       "    </tr>\n",
       "    <tr>\n",
       "      <th>4</th>\n",
       "      <td>7043597870</td>\n",
       "      <td>https://charlottesville.craigslist.org/apa/d/c...</td>\n",
       "      <td>charlottesville</td>\n",
       "      <td>https://charlottesville.craigslist.org</td>\n",
       "      <td>apartment</td>\n",
       "      <td>783</td>\n",
       "      <td>2</td>\n",
       "      <td>1.0</td>\n",
       "      <td>1</td>\n",
       "      <td>1</td>\n",
       "      <td>...</td>\n",
       "      <td>0</td>\n",
       "      <td>0</td>\n",
       "      <td>0</td>\n",
       "      <td>laundry on site</td>\n",
       "      <td>None</td>\n",
       "      <td>https://images.craigslist.org/00D0D_cXa4KbZ6ox...</td>\n",
       "      <td>Barracks West Apartments &amp; Townhomes in Charlo...</td>\n",
       "      <td>38.0936</td>\n",
       "      <td>-78.5611</td>\n",
       "      <td>va</td>\n",
       "    </tr>\n",
       "  </tbody>\n",
       "</table>\n",
       "<p>5 rows × 21 columns</p>\n",
       "</div>"
      ],
      "text/plain": [
       "           id                                                url  \\\n",
       "0  7037609789  https://annarbor.craigslist.org/apa/d/wixom-ho...   \n",
       "1  7032406876  https://vermont.craigslist.org/apa/d/randolph-...   \n",
       "2  7037022682  https://annarbor.craigslist.org/apa/d/ann-arbo...   \n",
       "3  7048681802  https://fortcollins.craigslist.org/apa/d/fort-...   \n",
       "4  7043597870  https://charlottesville.craigslist.org/apa/d/c...   \n",
       "\n",
       "                    region                              region_url  \\\n",
       "0                ann arbor         https://annarbor.craigslist.org   \n",
       "1                  vermont          https://vermont.craigslist.org   \n",
       "2                ann arbor         https://annarbor.craigslist.org   \n",
       "3  fort collins / north CO      https://fortcollins.craigslist.org   \n",
       "4          charlottesville  https://charlottesville.craigslist.org   \n",
       "\n",
       "           type  sqfeet  beds  baths  cats_allowed  dogs_allowed  ...  \\\n",
       "0  manufactured    1344     3    2.0             0             0  ...   \n",
       "1     apartment    1050     2    1.0             0             0  ...   \n",
       "2     apartment    1150     2    2.0             1             1  ...   \n",
       "3     apartment    1280     2    2.5             1             1  ...   \n",
       "4     apartment     783     2    1.0             1             1  ...   \n",
       "\n",
       "   wheelchair_access  electric_vehicle_charge  comes_furnished  \\\n",
       "0                  0                        0                0   \n",
       "1                  0                        0                0   \n",
       "2                  1                        0                0   \n",
       "3                  0                        0                0   \n",
       "4                  0                        0                0   \n",
       "\n",
       "   laundry_options     parking_options  \\\n",
       "0      w/d in unit  off-street parking   \n",
       "1      w/d hookups  off-street parking   \n",
       "2      w/d in unit             carport   \n",
       "3      w/d in unit     attached garage   \n",
       "4  laundry on site                None   \n",
       "\n",
       "                                           image_url  \\\n",
       "0  https://images.craigslist.org/00M0M_iNczP1nzIL...   \n",
       "1  https://images.craigslist.org/00L0L_ecirmYBIzL...   \n",
       "2  https://images.craigslist.org/00e0e_dPln2xjo9g...   \n",
       "3  https://images.craigslist.org/00L0L_jlektT5cSd...   \n",
       "4  https://images.craigslist.org/00D0D_cXa4KbZ6ox...   \n",
       "\n",
       "                                         description      lat      long  state  \n",
       "0  OPEN HOUSE TODAY! APPLY THIS WEEK, PUT A HOLDI...  42.5333  -83.5763     mi  \n",
       "1  Think of it, you'll be first to get your mail....  43.9393  -72.5538     vt  \n",
       "2  One of Ann Arbor's most luxurious apartment co...  42.2492  -83.7712     mi  \n",
       "3  Specials! Move in before January 16th, 2020 an...  40.5501 -105.0350     co  \n",
       "4  Barracks West Apartments & Townhomes in Charlo...  38.0936  -78.5611     va  \n",
       "\n",
       "[5 rows x 21 columns]"
      ]
     },
     "execution_count": 37,
     "metadata": {},
     "output_type": "execute_result"
    }
   ],
   "source": [
    "df_test.head()"
   ]
  },
  {
   "cell_type": "code",
   "execution_count": 38,
   "metadata": {},
   "outputs": [
    {
     "data": {
      "text/plain": [
       "(346479, 22)"
      ]
     },
     "execution_count": 38,
     "metadata": {},
     "output_type": "execute_result"
    }
   ],
   "source": [
    "df_train.shape"
   ]
  },
  {
   "cell_type": "code",
   "execution_count": 39,
   "metadata": {},
   "outputs": [
    {
     "data": {
      "text/plain": [
       "(38498, 21)"
      ]
     },
     "execution_count": 39,
     "metadata": {},
     "output_type": "execute_result"
    }
   ],
   "source": [
    "df_test.shape"
   ]
  },
  {
   "cell_type": "code",
   "execution_count": 7,
   "metadata": {},
   "outputs": [],
   "source": [
    "# Tenemos muchisimos datos, asi que tendremos que limpiarlos primero y decidir cuales datos usaremos y cuales no ! \n",
    "# Para despues desarrolar nuestro modelo de Machine Learning"
   ]
  },
  {
   "cell_type": "code",
   "execution_count": 8,
   "metadata": {},
   "outputs": [
    {
     "name": "stdout",
     "output_type": "stream",
     "text": [
      "Index(['id', 'url', 'region', 'region_url', 'price', 'type', 'sqfeet', 'beds',\n",
      "       'baths', 'cats_allowed', 'dogs_allowed', 'smoking_allowed',\n",
      "       'wheelchair_access', 'electric_vehicle_charge', 'comes_furnished',\n",
      "       'laundry_options', 'parking_options', 'image_url', 'description', 'lat',\n",
      "       'long', 'state'],\n",
      "      dtype='object')\n",
      "Index(['id', 'url', 'region', 'region_url', 'type', 'sqfeet', 'beds', 'baths',\n",
      "       'cats_allowed', 'dogs_allowed', 'smoking_allowed', 'wheelchair_access',\n",
      "       'electric_vehicle_charge', 'comes_furnished', 'laundry_options',\n",
      "       'parking_options', 'image_url', 'description', 'lat', 'long', 'state'],\n",
      "      dtype='object')\n"
     ]
    }
   ],
   "source": [
    "print(df_train.keys())\n",
    "print(df_test.keys())"
   ]
  },
  {
   "cell_type": "code",
   "execution_count": 9,
   "metadata": {},
   "outputs": [
    {
     "data": {
      "text/html": [
       "<div>\n",
       "<style scoped>\n",
       "    .dataframe tbody tr th:only-of-type {\n",
       "        vertical-align: middle;\n",
       "    }\n",
       "\n",
       "    .dataframe tbody tr th {\n",
       "        vertical-align: top;\n",
       "    }\n",
       "\n",
       "    .dataframe thead th {\n",
       "        text-align: right;\n",
       "    }\n",
       "</style>\n",
       "<table border=\"1\" class=\"dataframe\">\n",
       "  <thead>\n",
       "    <tr style=\"text-align: right;\">\n",
       "      <th></th>\n",
       "      <th>id</th>\n",
       "      <th>price</th>\n",
       "      <th>sqfeet</th>\n",
       "      <th>beds</th>\n",
       "      <th>baths</th>\n",
       "      <th>cats_allowed</th>\n",
       "      <th>dogs_allowed</th>\n",
       "      <th>smoking_allowed</th>\n",
       "      <th>wheelchair_access</th>\n",
       "      <th>electric_vehicle_charge</th>\n",
       "      <th>comes_furnished</th>\n",
       "      <th>lat</th>\n",
       "      <th>long</th>\n",
       "    </tr>\n",
       "  </thead>\n",
       "  <tbody>\n",
       "    <tr>\n",
       "      <th>count</th>\n",
       "      <td>3.464790e+05</td>\n",
       "      <td>3.464790e+05</td>\n",
       "      <td>3.464790e+05</td>\n",
       "      <td>346479.000000</td>\n",
       "      <td>346479.000000</td>\n",
       "      <td>346479.000000</td>\n",
       "      <td>346479.000000</td>\n",
       "      <td>346479.000000</td>\n",
       "      <td>346479.00000</td>\n",
       "      <td>346479.000000</td>\n",
       "      <td>346479.000000</td>\n",
       "      <td>344757.000000</td>\n",
       "      <td>344757.000000</td>\n",
       "    </tr>\n",
       "    <tr>\n",
       "      <th>mean</th>\n",
       "      <td>7.040988e+09</td>\n",
       "      <td>9.664420e+03</td>\n",
       "      <td>1.066326e+03</td>\n",
       "      <td>1.903189</td>\n",
       "      <td>1.480339</td>\n",
       "      <td>0.726803</td>\n",
       "      <td>0.707861</td>\n",
       "      <td>0.731738</td>\n",
       "      <td>0.08197</td>\n",
       "      <td>0.012792</td>\n",
       "      <td>0.048141</td>\n",
       "      <td>37.234363</td>\n",
       "      <td>-92.705415</td>\n",
       "    </tr>\n",
       "    <tr>\n",
       "      <th>std</th>\n",
       "      <td>8.802214e+06</td>\n",
       "      <td>4.703573e+06</td>\n",
       "      <td>2.018537e+04</td>\n",
       "      <td>3.162685</td>\n",
       "      <td>0.608246</td>\n",
       "      <td>0.445602</td>\n",
       "      <td>0.454746</td>\n",
       "      <td>0.443055</td>\n",
       "      <td>0.27432</td>\n",
       "      <td>0.112374</td>\n",
       "      <td>0.214065</td>\n",
       "      <td>5.550956</td>\n",
       "      <td>16.551071</td>\n",
       "    </tr>\n",
       "    <tr>\n",
       "      <th>min</th>\n",
       "      <td>7.003808e+09</td>\n",
       "      <td>0.000000e+00</td>\n",
       "      <td>0.000000e+00</td>\n",
       "      <td>0.000000</td>\n",
       "      <td>0.000000</td>\n",
       "      <td>0.000000</td>\n",
       "      <td>0.000000</td>\n",
       "      <td>0.000000</td>\n",
       "      <td>0.00000</td>\n",
       "      <td>0.000000</td>\n",
       "      <td>0.000000</td>\n",
       "      <td>-43.533300</td>\n",
       "      <td>-163.894000</td>\n",
       "    </tr>\n",
       "    <tr>\n",
       "      <th>25%</th>\n",
       "      <td>7.035988e+09</td>\n",
       "      <td>8.050000e+02</td>\n",
       "      <td>7.500000e+02</td>\n",
       "      <td>1.000000</td>\n",
       "      <td>1.000000</td>\n",
       "      <td>0.000000</td>\n",
       "      <td>0.000000</td>\n",
       "      <td>0.000000</td>\n",
       "      <td>0.00000</td>\n",
       "      <td>0.000000</td>\n",
       "      <td>0.000000</td>\n",
       "      <td>33.453100</td>\n",
       "      <td>-100.784000</td>\n",
       "    </tr>\n",
       "    <tr>\n",
       "      <th>50%</th>\n",
       "      <td>7.043325e+09</td>\n",
       "      <td>1.036000e+03</td>\n",
       "      <td>9.490000e+02</td>\n",
       "      <td>2.000000</td>\n",
       "      <td>1.000000</td>\n",
       "      <td>1.000000</td>\n",
       "      <td>1.000000</td>\n",
       "      <td>1.000000</td>\n",
       "      <td>0.00000</td>\n",
       "      <td>0.000000</td>\n",
       "      <td>0.000000</td>\n",
       "      <td>37.650100</td>\n",
       "      <td>-87.710800</td>\n",
       "    </tr>\n",
       "    <tr>\n",
       "      <th>75%</th>\n",
       "      <td>7.048431e+09</td>\n",
       "      <td>1.395000e+03</td>\n",
       "      <td>1.150000e+03</td>\n",
       "      <td>2.000000</td>\n",
       "      <td>2.000000</td>\n",
       "      <td>1.000000</td>\n",
       "      <td>1.000000</td>\n",
       "      <td>1.000000</td>\n",
       "      <td>0.00000</td>\n",
       "      <td>0.000000</td>\n",
       "      <td>0.000000</td>\n",
       "      <td>41.137900</td>\n",
       "      <td>-81.174600</td>\n",
       "    </tr>\n",
       "    <tr>\n",
       "      <th>max</th>\n",
       "      <td>7.051292e+09</td>\n",
       "      <td>2.768307e+09</td>\n",
       "      <td>8.388607e+06</td>\n",
       "      <td>1100.000000</td>\n",
       "      <td>75.000000</td>\n",
       "      <td>1.000000</td>\n",
       "      <td>1.000000</td>\n",
       "      <td>1.000000</td>\n",
       "      <td>1.00000</td>\n",
       "      <td>1.000000</td>\n",
       "      <td>1.000000</td>\n",
       "      <td>102.036000</td>\n",
       "      <td>172.633000</td>\n",
       "    </tr>\n",
       "  </tbody>\n",
       "</table>\n",
       "</div>"
      ],
      "text/plain": [
       "                 id         price        sqfeet           beds          baths  \\\n",
       "count  3.464790e+05  3.464790e+05  3.464790e+05  346479.000000  346479.000000   \n",
       "mean   7.040988e+09  9.664420e+03  1.066326e+03       1.903189       1.480339   \n",
       "std    8.802214e+06  4.703573e+06  2.018537e+04       3.162685       0.608246   \n",
       "min    7.003808e+09  0.000000e+00  0.000000e+00       0.000000       0.000000   \n",
       "25%    7.035988e+09  8.050000e+02  7.500000e+02       1.000000       1.000000   \n",
       "50%    7.043325e+09  1.036000e+03  9.490000e+02       2.000000       1.000000   \n",
       "75%    7.048431e+09  1.395000e+03  1.150000e+03       2.000000       2.000000   \n",
       "max    7.051292e+09  2.768307e+09  8.388607e+06    1100.000000      75.000000   \n",
       "\n",
       "        cats_allowed   dogs_allowed  smoking_allowed  wheelchair_access  \\\n",
       "count  346479.000000  346479.000000    346479.000000       346479.00000   \n",
       "mean        0.726803       0.707861         0.731738            0.08197   \n",
       "std         0.445602       0.454746         0.443055            0.27432   \n",
       "min         0.000000       0.000000         0.000000            0.00000   \n",
       "25%         0.000000       0.000000         0.000000            0.00000   \n",
       "50%         1.000000       1.000000         1.000000            0.00000   \n",
       "75%         1.000000       1.000000         1.000000            0.00000   \n",
       "max         1.000000       1.000000         1.000000            1.00000   \n",
       "\n",
       "       electric_vehicle_charge  comes_furnished            lat           long  \n",
       "count            346479.000000    346479.000000  344757.000000  344757.000000  \n",
       "mean                  0.012792         0.048141      37.234363     -92.705415  \n",
       "std                   0.112374         0.214065       5.550956      16.551071  \n",
       "min                   0.000000         0.000000     -43.533300    -163.894000  \n",
       "25%                   0.000000         0.000000      33.453100    -100.784000  \n",
       "50%                   0.000000         0.000000      37.650100     -87.710800  \n",
       "75%                   0.000000         0.000000      41.137900     -81.174600  \n",
       "max                   1.000000         1.000000     102.036000     172.633000  "
      ]
     },
     "execution_count": 9,
     "metadata": {},
     "output_type": "execute_result"
    }
   ],
   "source": [
    "df_train.describe() "
   ]
  },
  {
   "cell_type": "code",
   "execution_count": 40,
   "metadata": {},
   "outputs": [
    {
     "name": "stdout",
     "output_type": "stream",
     "text": [
      "<class 'pandas.core.frame.DataFrame'>\n",
      "RangeIndex: 346479 entries, 0 to 346478\n",
      "Data columns (total 22 columns):\n",
      " #   Column                   Non-Null Count   Dtype  \n",
      "---  ------                   --------------   -----  \n",
      " 0   id                       346479 non-null  int64  \n",
      " 1   url                      346479 non-null  object \n",
      " 2   region                   346479 non-null  object \n",
      " 3   region_url               346479 non-null  object \n",
      " 4   price                    346479 non-null  int64  \n",
      " 5   type                     346479 non-null  object \n",
      " 6   sqfeet                   346479 non-null  int64  \n",
      " 7   beds                     346479 non-null  int64  \n",
      " 8   baths                    346479 non-null  float64\n",
      " 9   cats_allowed             346479 non-null  int64  \n",
      " 10  dogs_allowed             346479 non-null  int64  \n",
      " 11  smoking_allowed          346479 non-null  int64  \n",
      " 12  wheelchair_access        346479 non-null  int64  \n",
      " 13  electric_vehicle_charge  346479 non-null  int64  \n",
      " 14  comes_furnished          346479 non-null  int64  \n",
      " 15  laundry_options          275308 non-null  object \n",
      " 16  parking_options          219797 non-null  object \n",
      " 17  image_url                346479 non-null  object \n",
      " 18  description              346477 non-null  object \n",
      " 19  lat                      344757 non-null  float64\n",
      " 20  long                     344757 non-null  float64\n",
      " 21  state                    346479 non-null  object \n",
      "dtypes: float64(3), int64(10), object(9)\n",
      "memory usage: 58.2+ MB\n"
     ]
    }
   ],
   "source": [
    "df_train.info()"
   ]
  },
  {
   "cell_type": "code",
   "execution_count": 11,
   "metadata": {},
   "outputs": [
    {
     "data": {
      "text/plain": [
       "id                              0\n",
       "url                             0\n",
       "region                          0\n",
       "region_url                      0\n",
       "price                           0\n",
       "type                            0\n",
       "sqfeet                          0\n",
       "beds                            0\n",
       "baths                           0\n",
       "cats_allowed                    0\n",
       "dogs_allowed                    0\n",
       "smoking_allowed                 0\n",
       "wheelchair_access               0\n",
       "electric_vehicle_charge         0\n",
       "comes_furnished                 0\n",
       "laundry_options             71171\n",
       "parking_options            126682\n",
       "image_url                       0\n",
       "description                     2\n",
       "lat                          1722\n",
       "long                         1722\n",
       "state                           0\n",
       "dtype: int64"
      ]
     },
     "execution_count": 11,
     "metadata": {},
     "output_type": "execute_result"
    }
   ],
   "source": [
    "df_train.isna().sum()"
   ]
  },
  {
   "cell_type": "code",
   "execution_count": 12,
   "metadata": {},
   "outputs": [
    {
     "data": {
      "text/html": [
       "<div>\n",
       "<style scoped>\n",
       "    .dataframe tbody tr th:only-of-type {\n",
       "        vertical-align: middle;\n",
       "    }\n",
       "\n",
       "    .dataframe tbody tr th {\n",
       "        vertical-align: top;\n",
       "    }\n",
       "\n",
       "    .dataframe thead th {\n",
       "        text-align: right;\n",
       "    }\n",
       "</style>\n",
       "<table border=\"1\" class=\"dataframe\">\n",
       "  <thead>\n",
       "    <tr style=\"text-align: right;\">\n",
       "      <th></th>\n",
       "      <th>id</th>\n",
       "      <th>url</th>\n",
       "      <th>region</th>\n",
       "      <th>region_url</th>\n",
       "      <th>price</th>\n",
       "      <th>type</th>\n",
       "      <th>sqfeet</th>\n",
       "      <th>beds</th>\n",
       "      <th>baths</th>\n",
       "      <th>cats_allowed</th>\n",
       "      <th>...</th>\n",
       "      <th>wheelchair_access</th>\n",
       "      <th>electric_vehicle_charge</th>\n",
       "      <th>comes_furnished</th>\n",
       "      <th>laundry_options</th>\n",
       "      <th>parking_options</th>\n",
       "      <th>image_url</th>\n",
       "      <th>description</th>\n",
       "      <th>lat</th>\n",
       "      <th>long</th>\n",
       "      <th>state</th>\n",
       "    </tr>\n",
       "  </thead>\n",
       "  <tbody>\n",
       "  </tbody>\n",
       "</table>\n",
       "<p>0 rows × 22 columns</p>\n",
       "</div>"
      ],
      "text/plain": [
       "Empty DataFrame\n",
       "Columns: [id, url, region, region_url, price, type, sqfeet, beds, baths, cats_allowed, dogs_allowed, smoking_allowed, wheelchair_access, electric_vehicle_charge, comes_furnished, laundry_options, parking_options, image_url, description, lat, long, state]\n",
       "Index: []\n",
       "\n",
       "[0 rows x 22 columns]"
      ]
     },
     "execution_count": 12,
     "metadata": {},
     "output_type": "execute_result"
    }
   ],
   "source": [
    "df_train[df_train.duplicated()]"
   ]
  },
  {
   "cell_type": "code",
   "execution_count": 13,
   "metadata": {},
   "outputs": [],
   "source": [
    "# Podemos ver que no tenemos datos duplicados en nuestro dataset de entrenamiento"
   ]
  },
  {
   "cell_type": "code",
   "execution_count": null,
   "metadata": {},
   "outputs": [],
   "source": [
    "# Feature Engineering "
   ]
  },
  {
   "cell_type": "code",
   "execution_count": 41,
   "metadata": {},
   "outputs": [],
   "source": [
    "df_reducido = df_train.sample(frac=.005)"
   ]
  },
  {
   "cell_type": "code",
   "execution_count": 14,
   "metadata": {},
   "outputs": [
    {
     "data": {
      "text/plain": [
       "1732"
      ]
     },
     "execution_count": 14,
     "metadata": {},
     "output_type": "execute_result"
    }
   ],
   "source": [
    "len(df_reducido)"
   ]
  },
  {
   "cell_type": "code",
   "execution_count": null,
   "metadata": {},
   "outputs": [],
   "source": [
    "sns.displot(df_reducido['price'])"
   ]
  },
  {
   "cell_type": "code",
   "execution_count": 42,
   "metadata": {},
   "outputs": [
    {
     "data": {
      "text/plain": [
       "<AxesSubplot: xlabel='price', ylabel='Density'>"
      ]
     },
     "execution_count": 42,
     "metadata": {},
     "output_type": "execute_result"
    },
    {
     "data": {
      "image/png": "[encoded data removed]",
      "text/plain": [
       "<Figure size 432x288 with 1 Axes>"
      ]
     },
     "metadata": {
      "needs_background": "light"
     },
     "output_type": "display_data"
    }
   ],
   "source": [
    "sns.distplot(df_reducido[\"price\"])"
   ]
  },
  {
   "cell_type": "code",
   "execution_count": 16,
   "metadata": {},
   "outputs": [
    {
     "data": {
      "text/plain": [
       "price                      1.000000\n",
       "dogs_allowed               0.001044\n",
       "cats_allowed               0.001026\n",
       "smoking_allowed            0.001024\n",
       "long                       0.000810\n",
       "baths                      0.000156\n",
       "beds                       0.000071\n",
       "sqfeet                     0.000008\n",
       "electric_vehicle_charge   -0.000186\n",
       "comes_furnished           -0.000374\n",
       "wheelchair_access         -0.000423\n",
       "id                        -0.001062\n",
       "lat                       -0.001486\n",
       "Name: price, dtype: float64"
      ]
     },
     "execution_count": 16,
     "metadata": {},
     "output_type": "execute_result"
    }
   ],
   "source": [
    "correlations = df_train.corr()\n",
    "correlations = correlations[\"price\"].sort_values(ascending=False)\n",
    "features = correlations.index[1:6]\n",
    "correlations"
   ]
  },
  {
   "cell_type": "code",
   "execution_count": null,
   "metadata": {},
   "outputs": [],
   "source": [
    "# No vemos ninguna correlacion fuerte entre las variables y el precio"
   ]
  },
  {
   "cell_type": "code",
   "execution_count": 17,
   "metadata": {},
   "outputs": [
    {
     "data": {
      "image/png": "[encoded data removed]",
      "text/plain": [
       "<Figure size 1080x504 with 1 Axes>"
      ]
     },
     "metadata": {
      "needs_background": "light"
     },
     "output_type": "display_data"
    }
   ],
   "source": [
    "plt.figure(figsize=(15,7))\n",
    "sns.barplot(x=\"type\", y=\"price\", data=df_reducido)\n",
    "plt.title(\"Distribucion del Precio basado en el Tipo de Inmueble\")\n",
    "plt.show()"
   ]
  },
  {
   "cell_type": "code",
   "execution_count": 18,
   "metadata": {},
   "outputs": [],
   "source": [
    "# Podemos ver como la todos los precios de los Tipos de Inmuebles son parecidos excepto por los Manufactured, donde econtramos toda clase de Precios"
   ]
  },
  {
   "cell_type": "code",
   "execution_count": 19,
   "metadata": {},
   "outputs": [
    {
     "data": {
      "image/png": "[encoded data removed]",
      "text/plain": [
       "<Figure size 864x360 with 1 Axes>"
      ]
     },
     "metadata": {
      "needs_background": "light"
     },
     "output_type": "display_data"
    }
   ],
   "source": [
    "plt.figure(figsize=(12,5))\n",
    "sns.barplot(x=\"beds\", y=\"price\", data=df_reducido)\n",
    "plt.title(\"Distribucion del Precio basado en el Tipo de Inmueble\")\n",
    "plt.show()"
   ]
  },
  {
   "cell_type": "code",
   "execution_count": 20,
   "metadata": {},
   "outputs": [],
   "source": [
    "# Vamos a prescindir de las columnas id, url, region_url, image_url, description'\n",
    "# Considero que estas variables no son importantes a la hora de predecir la estadia total de un paciente"
   ]
  },
  {
   "cell_type": "code",
   "execution_count": 43,
   "metadata": {},
   "outputs": [],
   "source": [
    "df_reducido.drop(['id','url', 'region_url', 'image_url', 'description'], axis=1, inplace=True)\n",
    "df_train.drop(['id','url', 'region_url', 'image_url', 'description'], axis=1, inplace=True)\n",
    "df_test.drop(['id','url', 'region_url', 'image_url', 'description'], axis=1, inplace=True)"
   ]
  },
  {
   "cell_type": "code",
   "execution_count": 44,
   "metadata": {},
   "outputs": [
    {
     "data": {
      "text/html": [
       "<div>\n",
       "<style scoped>\n",
       "    .dataframe tbody tr th:only-of-type {\n",
       "        vertical-align: middle;\n",
       "    }\n",
       "\n",
       "    .dataframe tbody tr th {\n",
       "        vertical-align: top;\n",
       "    }\n",
       "\n",
       "    .dataframe thead th {\n",
       "        text-align: right;\n",
       "    }\n",
       "</style>\n",
       "<table border=\"1\" class=\"dataframe\">\n",
       "  <thead>\n",
       "    <tr style=\"text-align: right;\">\n",
       "      <th></th>\n",
       "      <th>region</th>\n",
       "      <th>price</th>\n",
       "      <th>type</th>\n",
       "      <th>sqfeet</th>\n",
       "      <th>beds</th>\n",
       "      <th>baths</th>\n",
       "      <th>cats_allowed</th>\n",
       "      <th>dogs_allowed</th>\n",
       "      <th>smoking_allowed</th>\n",
       "      <th>wheelchair_access</th>\n",
       "      <th>electric_vehicle_charge</th>\n",
       "      <th>comes_furnished</th>\n",
       "      <th>laundry_options</th>\n",
       "      <th>parking_options</th>\n",
       "      <th>lat</th>\n",
       "      <th>long</th>\n",
       "      <th>state</th>\n",
       "    </tr>\n",
       "  </thead>\n",
       "  <tbody>\n",
       "    <tr>\n",
       "      <th>0</th>\n",
       "      <td>boise</td>\n",
       "      <td>1350</td>\n",
       "      <td>house</td>\n",
       "      <td>1200</td>\n",
       "      <td>2</td>\n",
       "      <td>2.0</td>\n",
       "      <td>1</td>\n",
       "      <td>1</td>\n",
       "      <td>1</td>\n",
       "      <td>0</td>\n",
       "      <td>0</td>\n",
       "      <td>0</td>\n",
       "      <td>w/d in unit</td>\n",
       "      <td>detached garage</td>\n",
       "      <td>43.5851</td>\n",
       "      <td>-116.2250</td>\n",
       "      <td>id</td>\n",
       "    </tr>\n",
       "    <tr>\n",
       "      <th>1</th>\n",
       "      <td>colorado springs</td>\n",
       "      <td>1115</td>\n",
       "      <td>apartment</td>\n",
       "      <td>694</td>\n",
       "      <td>1</td>\n",
       "      <td>1.0</td>\n",
       "      <td>1</td>\n",
       "      <td>1</td>\n",
       "      <td>1</td>\n",
       "      <td>0</td>\n",
       "      <td>0</td>\n",
       "      <td>0</td>\n",
       "      <td>w/d in unit</td>\n",
       "      <td>carport</td>\n",
       "      <td>38.9137</td>\n",
       "      <td>-104.7800</td>\n",
       "      <td>co</td>\n",
       "    </tr>\n",
       "    <tr>\n",
       "      <th>2</th>\n",
       "      <td>norfolk / hampton roads</td>\n",
       "      <td>1129</td>\n",
       "      <td>apartment</td>\n",
       "      <td>900</td>\n",
       "      <td>2</td>\n",
       "      <td>2.0</td>\n",
       "      <td>0</td>\n",
       "      <td>0</td>\n",
       "      <td>1</td>\n",
       "      <td>0</td>\n",
       "      <td>0</td>\n",
       "      <td>0</td>\n",
       "      <td>w/d hookups</td>\n",
       "      <td>off-street parking</td>\n",
       "      <td>36.7922</td>\n",
       "      <td>-76.1643</td>\n",
       "      <td>va</td>\n",
       "    </tr>\n",
       "    <tr>\n",
       "      <th>3</th>\n",
       "      <td>phoenix</td>\n",
       "      <td>1580</td>\n",
       "      <td>house</td>\n",
       "      <td>1469</td>\n",
       "      <td>3</td>\n",
       "      <td>2.0</td>\n",
       "      <td>1</td>\n",
       "      <td>1</td>\n",
       "      <td>1</td>\n",
       "      <td>0</td>\n",
       "      <td>0</td>\n",
       "      <td>0</td>\n",
       "      <td>w/d in unit</td>\n",
       "      <td>None</td>\n",
       "      <td>33.5623</td>\n",
       "      <td>-112.0560</td>\n",
       "      <td>az</td>\n",
       "    </tr>\n",
       "    <tr>\n",
       "      <th>4</th>\n",
       "      <td>nashville</td>\n",
       "      <td>995</td>\n",
       "      <td>apartment</td>\n",
       "      <td>700</td>\n",
       "      <td>1</td>\n",
       "      <td>1.0</td>\n",
       "      <td>1</td>\n",
       "      <td>1</td>\n",
       "      <td>1</td>\n",
       "      <td>0</td>\n",
       "      <td>0</td>\n",
       "      <td>0</td>\n",
       "      <td>w/d in unit</td>\n",
       "      <td>carport</td>\n",
       "      <td>36.0595</td>\n",
       "      <td>-86.6592</td>\n",
       "      <td>tn</td>\n",
       "    </tr>\n",
       "  </tbody>\n",
       "</table>\n",
       "</div>"
      ],
      "text/plain": [
       "                    region  price       type  sqfeet  beds  baths  \\\n",
       "0                    boise   1350      house    1200     2    2.0   \n",
       "1         colorado springs   1115  apartment     694     1    1.0   \n",
       "2  norfolk / hampton roads   1129  apartment     900     2    2.0   \n",
       "3                  phoenix   1580      house    1469     3    2.0   \n",
       "4                nashville    995  apartment     700     1    1.0   \n",
       "\n",
       "   cats_allowed  dogs_allowed  smoking_allowed  wheelchair_access  \\\n",
       "0             1             1                1                  0   \n",
       "1             1             1                1                  0   \n",
       "2             0             0                1                  0   \n",
       "3             1             1                1                  0   \n",
       "4             1             1                1                  0   \n",
       "\n",
       "   electric_vehicle_charge  comes_furnished laundry_options  \\\n",
       "0                        0                0     w/d in unit   \n",
       "1                        0                0     w/d in unit   \n",
       "2                        0                0     w/d hookups   \n",
       "3                        0                0     w/d in unit   \n",
       "4                        0                0     w/d in unit   \n",
       "\n",
       "      parking_options      lat      long state  \n",
       "0     detached garage  43.5851 -116.2250    id  \n",
       "1             carport  38.9137 -104.7800    co  \n",
       "2  off-street parking  36.7922  -76.1643    va  \n",
       "3                None  33.5623 -112.0560    az  \n",
       "4             carport  36.0595  -86.6592    tn  "
      ]
     },
     "execution_count": 44,
     "metadata": {},
     "output_type": "execute_result"
    }
   ],
   "source": [
    "df_train.head()"
   ]
  },
  {
   "cell_type": "code",
   "execution_count": 23,
   "metadata": {},
   "outputs": [],
   "source": [
    "# Ahora necesitamos pasar los precios a valores de 0 y 1, donde 0 son las propiedades que valen menos de 1000 y 0 las que valen mas de 1000"
   ]
  },
  {
   "cell_type": "code",
   "execution_count": 45,
   "metadata": {},
   "outputs": [],
   "source": [
    "df_train['price'].where(df_train['price'] > 1000, 1, inplace= True)\n",
    "df_train['price'].where(df_train['price'] < 1000, 0, inplace= True)"
   ]
  },
  {
   "cell_type": "code",
   "execution_count": 49,
   "metadata": {},
   "outputs": [
    {
     "data": {
      "text/html": [
       "<div>\n",
       "<style scoped>\n",
       "    .dataframe tbody tr th:only-of-type {\n",
       "        vertical-align: middle;\n",
       "    }\n",
       "\n",
       "    .dataframe tbody tr th {\n",
       "        vertical-align: top;\n",
       "    }\n",
       "\n",
       "    .dataframe thead th {\n",
       "        text-align: right;\n",
       "    }\n",
       "</style>\n",
       "<table border=\"1\" class=\"dataframe\">\n",
       "  <thead>\n",
       "    <tr style=\"text-align: right;\">\n",
       "      <th></th>\n",
       "      <th>region</th>\n",
       "      <th>price</th>\n",
       "      <th>type</th>\n",
       "      <th>sqfeet</th>\n",
       "      <th>beds</th>\n",
       "      <th>baths</th>\n",
       "      <th>cats_allowed</th>\n",
       "      <th>dogs_allowed</th>\n",
       "      <th>smoking_allowed</th>\n",
       "      <th>wheelchair_access</th>\n",
       "      <th>electric_vehicle_charge</th>\n",
       "      <th>comes_furnished</th>\n",
       "      <th>laundry_options</th>\n",
       "      <th>parking_options</th>\n",
       "      <th>lat</th>\n",
       "      <th>long</th>\n",
       "      <th>state</th>\n",
       "    </tr>\n",
       "  </thead>\n",
       "  <tbody>\n",
       "    <tr>\n",
       "      <th>0</th>\n",
       "      <td>boise</td>\n",
       "      <td>0</td>\n",
       "      <td>house</td>\n",
       "      <td>1200</td>\n",
       "      <td>2</td>\n",
       "      <td>2.0</td>\n",
       "      <td>1</td>\n",
       "      <td>1</td>\n",
       "      <td>1</td>\n",
       "      <td>0</td>\n",
       "      <td>0</td>\n",
       "      <td>0</td>\n",
       "      <td>w/d in unit</td>\n",
       "      <td>detached garage</td>\n",
       "      <td>43.5851</td>\n",
       "      <td>-116.2250</td>\n",
       "      <td>id</td>\n",
       "    </tr>\n",
       "    <tr>\n",
       "      <th>1</th>\n",
       "      <td>colorado springs</td>\n",
       "      <td>0</td>\n",
       "      <td>apartment</td>\n",
       "      <td>694</td>\n",
       "      <td>1</td>\n",
       "      <td>1.0</td>\n",
       "      <td>1</td>\n",
       "      <td>1</td>\n",
       "      <td>1</td>\n",
       "      <td>0</td>\n",
       "      <td>0</td>\n",
       "      <td>0</td>\n",
       "      <td>w/d in unit</td>\n",
       "      <td>carport</td>\n",
       "      <td>38.9137</td>\n",
       "      <td>-104.7800</td>\n",
       "      <td>co</td>\n",
       "    </tr>\n",
       "    <tr>\n",
       "      <th>2</th>\n",
       "      <td>norfolk / hampton roads</td>\n",
       "      <td>0</td>\n",
       "      <td>apartment</td>\n",
       "      <td>900</td>\n",
       "      <td>2</td>\n",
       "      <td>2.0</td>\n",
       "      <td>0</td>\n",
       "      <td>0</td>\n",
       "      <td>1</td>\n",
       "      <td>0</td>\n",
       "      <td>0</td>\n",
       "      <td>0</td>\n",
       "      <td>w/d hookups</td>\n",
       "      <td>off-street parking</td>\n",
       "      <td>36.7922</td>\n",
       "      <td>-76.1643</td>\n",
       "      <td>va</td>\n",
       "    </tr>\n",
       "    <tr>\n",
       "      <th>3</th>\n",
       "      <td>phoenix</td>\n",
       "      <td>0</td>\n",
       "      <td>house</td>\n",
       "      <td>1469</td>\n",
       "      <td>3</td>\n",
       "      <td>2.0</td>\n",
       "      <td>1</td>\n",
       "      <td>1</td>\n",
       "      <td>1</td>\n",
       "      <td>0</td>\n",
       "      <td>0</td>\n",
       "      <td>0</td>\n",
       "      <td>w/d in unit</td>\n",
       "      <td>None</td>\n",
       "      <td>33.5623</td>\n",
       "      <td>-112.0560</td>\n",
       "      <td>az</td>\n",
       "    </tr>\n",
       "    <tr>\n",
       "      <th>4</th>\n",
       "      <td>nashville</td>\n",
       "      <td>1</td>\n",
       "      <td>apartment</td>\n",
       "      <td>700</td>\n",
       "      <td>1</td>\n",
       "      <td>1.0</td>\n",
       "      <td>1</td>\n",
       "      <td>1</td>\n",
       "      <td>1</td>\n",
       "      <td>0</td>\n",
       "      <td>0</td>\n",
       "      <td>0</td>\n",
       "      <td>w/d in unit</td>\n",
       "      <td>carport</td>\n",
       "      <td>36.0595</td>\n",
       "      <td>-86.6592</td>\n",
       "      <td>tn</td>\n",
       "    </tr>\n",
       "    <tr>\n",
       "      <th>5</th>\n",
       "      <td>dallas / fort worth</td>\n",
       "      <td>0</td>\n",
       "      <td>house</td>\n",
       "      <td>1649</td>\n",
       "      <td>3</td>\n",
       "      <td>2.0</td>\n",
       "      <td>1</td>\n",
       "      <td>1</td>\n",
       "      <td>1</td>\n",
       "      <td>0</td>\n",
       "      <td>0</td>\n",
       "      <td>0</td>\n",
       "      <td>w/d hookups</td>\n",
       "      <td>attached garage</td>\n",
       "      <td>33.0198</td>\n",
       "      <td>-96.9925</td>\n",
       "      <td>tx</td>\n",
       "    </tr>\n",
       "    <tr>\n",
       "      <th>6</th>\n",
       "      <td>worcester / central MA</td>\n",
       "      <td>0</td>\n",
       "      <td>apartment</td>\n",
       "      <td>1150</td>\n",
       "      <td>3</td>\n",
       "      <td>1.0</td>\n",
       "      <td>1</td>\n",
       "      <td>1</td>\n",
       "      <td>1</td>\n",
       "      <td>0</td>\n",
       "      <td>0</td>\n",
       "      <td>0</td>\n",
       "      <td>w/d in unit</td>\n",
       "      <td>off-street parking</td>\n",
       "      <td>42.2470</td>\n",
       "      <td>-71.7872</td>\n",
       "      <td>ma</td>\n",
       "    </tr>\n",
       "    <tr>\n",
       "      <th>7</th>\n",
       "      <td>wichita</td>\n",
       "      <td>1</td>\n",
       "      <td>apartment</td>\n",
       "      <td>1050</td>\n",
       "      <td>3</td>\n",
       "      <td>2.0</td>\n",
       "      <td>1</td>\n",
       "      <td>1</td>\n",
       "      <td>1</td>\n",
       "      <td>0</td>\n",
       "      <td>0</td>\n",
       "      <td>0</td>\n",
       "      <td>w/d hookups</td>\n",
       "      <td>None</td>\n",
       "      <td>37.6985</td>\n",
       "      <td>-97.1179</td>\n",
       "      <td>ks</td>\n",
       "    </tr>\n",
       "    <tr>\n",
       "      <th>8</th>\n",
       "      <td>scranton / wilkes-barre</td>\n",
       "      <td>1</td>\n",
       "      <td>apartment</td>\n",
       "      <td>1200</td>\n",
       "      <td>3</td>\n",
       "      <td>1.5</td>\n",
       "      <td>0</td>\n",
       "      <td>0</td>\n",
       "      <td>1</td>\n",
       "      <td>0</td>\n",
       "      <td>0</td>\n",
       "      <td>0</td>\n",
       "      <td>w/d hookups</td>\n",
       "      <td>off-street parking</td>\n",
       "      <td>41.2689</td>\n",
       "      <td>-75.8453</td>\n",
       "      <td>pa</td>\n",
       "    </tr>\n",
       "    <tr>\n",
       "      <th>9</th>\n",
       "      <td>boise</td>\n",
       "      <td>0</td>\n",
       "      <td>apartment</td>\n",
       "      <td>1230</td>\n",
       "      <td>3</td>\n",
       "      <td>2.0</td>\n",
       "      <td>1</td>\n",
       "      <td>1</td>\n",
       "      <td>0</td>\n",
       "      <td>0</td>\n",
       "      <td>0</td>\n",
       "      <td>0</td>\n",
       "      <td>w/d in unit</td>\n",
       "      <td>carport</td>\n",
       "      <td>43.6264</td>\n",
       "      <td>-116.3930</td>\n",
       "      <td>id</td>\n",
       "    </tr>\n",
       "  </tbody>\n",
       "</table>\n",
       "</div>"
      ],
      "text/plain": [
       "                    region  price       type  sqfeet  beds  baths  \\\n",
       "0                    boise      0      house    1200     2    2.0   \n",
       "1         colorado springs      0  apartment     694     1    1.0   \n",
       "2  norfolk / hampton roads      0  apartment     900     2    2.0   \n",
       "3                  phoenix      0      house    1469     3    2.0   \n",
       "4                nashville      1  apartment     700     1    1.0   \n",
       "5      dallas / fort worth      0      house    1649     3    2.0   \n",
       "6   worcester / central MA      0  apartment    1150     3    1.0   \n",
       "7                  wichita      1  apartment    1050     3    2.0   \n",
       "8  scranton / wilkes-barre      1  apartment    1200     3    1.5   \n",
       "9                    boise      0  apartment    1230     3    2.0   \n",
       "\n",
       "   cats_allowed  dogs_allowed  smoking_allowed  wheelchair_access  \\\n",
       "0             1             1                1                  0   \n",
       "1             1             1                1                  0   \n",
       "2             0             0                1                  0   \n",
       "3             1             1                1                  0   \n",
       "4             1             1                1                  0   \n",
       "5             1             1                1                  0   \n",
       "6             1             1                1                  0   \n",
       "7             1             1                1                  0   \n",
       "8             0             0                1                  0   \n",
       "9             1             1                0                  0   \n",
       "\n",
       "   electric_vehicle_charge  comes_furnished laundry_options  \\\n",
       "0                        0                0     w/d in unit   \n",
       "1                        0                0     w/d in unit   \n",
       "2                        0                0     w/d hookups   \n",
       "3                        0                0     w/d in unit   \n",
       "4                        0                0     w/d in unit   \n",
       "5                        0                0     w/d hookups   \n",
       "6                        0                0     w/d in unit   \n",
       "7                        0                0     w/d hookups   \n",
       "8                        0                0     w/d hookups   \n",
       "9                        0                0     w/d in unit   \n",
       "\n",
       "      parking_options      lat      long state  \n",
       "0     detached garage  43.5851 -116.2250    id  \n",
       "1             carport  38.9137 -104.7800    co  \n",
       "2  off-street parking  36.7922  -76.1643    va  \n",
       "3                None  33.5623 -112.0560    az  \n",
       "4             carport  36.0595  -86.6592    tn  \n",
       "5     attached garage  33.0198  -96.9925    tx  \n",
       "6  off-street parking  42.2470  -71.7872    ma  \n",
       "7                None  37.6985  -97.1179    ks  \n",
       "8  off-street parking  41.2689  -75.8453    pa  \n",
       "9             carport  43.6264 -116.3930    id  "
      ]
     },
     "execution_count": 49,
     "metadata": {},
     "output_type": "execute_result"
    }
   ],
   "source": [
    "df_train.head(10)"
   ]
  },
  {
   "cell_type": "code",
   "execution_count": 50,
   "metadata": {},
   "outputs": [
    {
     "name": "stdout",
     "output_type": "stream",
     "text": [
      "<class 'pandas.core.frame.DataFrame'>\n",
      "RangeIndex: 346479 entries, 0 to 346478\n",
      "Data columns (total 17 columns):\n",
      " #   Column                   Non-Null Count   Dtype  \n",
      "---  ------                   --------------   -----  \n",
      " 0   region                   346479 non-null  object \n",
      " 1   price                    346479 non-null  int64  \n",
      " 2   type                     346479 non-null  object \n",
      " 3   sqfeet                   346479 non-null  int64  \n",
      " 4   beds                     346479 non-null  int64  \n",
      " 5   baths                    346479 non-null  float64\n",
      " 6   cats_allowed             346479 non-null  int64  \n",
      " 7   dogs_allowed             346479 non-null  int64  \n",
      " 8   smoking_allowed          346479 non-null  int64  \n",
      " 9   wheelchair_access        346479 non-null  int64  \n",
      " 10  electric_vehicle_charge  346479 non-null  int64  \n",
      " 11  comes_furnished          346479 non-null  int64  \n",
      " 12  laundry_options          275308 non-null  object \n",
      " 13  parking_options          219797 non-null  object \n",
      " 14  lat                      344757 non-null  float64\n",
      " 15  long                     344757 non-null  float64\n",
      " 16  state                    346479 non-null  object \n",
      "dtypes: float64(3), int64(9), object(5)\n",
      "memory usage: 44.9+ MB\n"
     ]
    }
   ],
   "source": [
    "df_train.info()"
   ]
  },
  {
   "cell_type": "code",
   "execution_count": 51,
   "metadata": {},
   "outputs": [
    {
     "name": "stdout",
     "output_type": "stream",
     "text": [
      "1\n",
      "0\n"
     ]
    }
   ],
   "source": [
    "print(df_train.price.max())\n",
    "print(df_train.price.min())"
   ]
  },
  {
   "cell_type": "code",
   "execution_count": 52,
   "metadata": {},
   "outputs": [
    {
     "data": {
      "text/plain": [
       "1100"
      ]
     },
     "execution_count": 52,
     "metadata": {},
     "output_type": "execute_result"
    }
   ],
   "source": [
    "df_train.beds.max()"
   ]
  },
  {
   "cell_type": "code",
   "execution_count": 53,
   "metadata": {},
   "outputs": [
    {
     "data": {
      "text/plain": [
       "75.0"
      ]
     },
     "execution_count": 53,
     "metadata": {},
     "output_type": "execute_result"
    }
   ],
   "source": [
    "df_train.baths.max()"
   ]
  },
  {
   "cell_type": "code",
   "execution_count": 54,
   "metadata": {},
   "outputs": [
    {
     "data": {
      "text/plain": [
       "8388607"
      ]
     },
     "execution_count": 54,
     "metadata": {},
     "output_type": "execute_result"
    }
   ],
   "source": [
    "df_train.sqfeet.max()"
   ]
  },
  {
   "cell_type": "code",
   "execution_count": 55,
   "metadata": {},
   "outputs": [
    {
     "data": {
      "text/plain": [
       "-163.894"
      ]
     },
     "execution_count": 55,
     "metadata": {},
     "output_type": "execute_result"
    }
   ],
   "source": [
    "df_train.long.min()"
   ]
  },
  {
   "cell_type": "code",
   "execution_count": 56,
   "metadata": {},
   "outputs": [
    {
     "data": {
      "text/plain": [
       "array(['id', 'co', 'va', 'az', 'tn', 'tx', 'ma', 'ks', 'pa', 'me', 'ms',\n",
       "       'la', 'mn', 'ky', 'wa', 'al', 'ca', 'ga', 'nc', 'md', 'ia', 'fl',\n",
       "       'or', 'ar', 'hi', 'nj', 'ut', 'wv', 'ny', 'sc', 'oh', 'mo', 'mi',\n",
       "       'ak', 'sd', 'ok', 'dc', 'in', 'ct', 'ri', 'ne', 'nd', 'nv', 'wi',\n",
       "       'nh', 'de', 'il', 'nm', 'mt', 'vt', 'wy'], dtype=object)"
      ]
     },
     "execution_count": 56,
     "metadata": {},
     "output_type": "execute_result"
    }
   ],
   "source": [
    "df_train.state.unique()"
   ]
  },
  {
   "cell_type": "code",
   "execution_count": 57,
   "metadata": {},
   "outputs": [],
   "source": [
    "from sklearn import preprocessing\n",
    "le = preprocessing.LabelEncoder()"
   ]
  },
  {
   "cell_type": "code",
   "execution_count": 58,
   "metadata": {},
   "outputs": [],
   "source": [
    "# Ahora necesitamos cambiar las variables categoricas a numeros, ya que nuestro modelo de Machine Learning solo acepta numeros para poder dar una prediccion\n",
    "# Realizaremos este proceso con LabelEncoder para asignar un numero a cada variable diferente de cada columna "
   ]
  },
  {
   "cell_type": "code",
   "execution_count": 59,
   "metadata": {},
   "outputs": [],
   "source": [
    "df_train.region = le.fit_transform(df_train.region)\n",
    "df_test.region = le.fit_transform(df_test.region)\n",
    "\n",
    "df_train.type = le.fit_transform(df_train.type)\n",
    "df_test.type = le.fit_transform(df_test.type)\n",
    "\n",
    "df_train.laundry_options = le.fit_transform(df_train.laundry_options)\n",
    "df_test.laundry_options = le.fit_transform(df_test.laundry_options)\n",
    "\n",
    "df_train.parking_options = le.fit_transform(df_train.parking_options)\n",
    "df_test.parking_options = le.fit_transform(df_test.parking_options)\n",
    "\n",
    "df_train.state = le.fit_transform(df_train.state)\n",
    "df_test.state = le.fit_transform(df_test.state)"
   ]
  },
  {
   "cell_type": "code",
   "execution_count": 60,
   "metadata": {},
   "outputs": [],
   "source": [
    "df_train[\"lat\"].fillna(df_train[\"lat\"].median(), inplace=True) \n",
    "df_test[\"lat\"].fillna(df_test[\"lat\"].median(), inplace=True)\n",
    "\n",
    "\n",
    "df_train[\"long\"].fillna(df_train[\"long\"].median(), inplace=True)\n",
    "df_test[\"long\"].fillna(df_test[\"long\"].median(), inplace=True)"
   ]
  },
  {
   "cell_type": "code",
   "execution_count": 36,
   "metadata": {},
   "outputs": [],
   "source": [
    "#Aqui inputamos la mediana a las columnas de 'lat' y 'long' ya que nuestro modelo de Machine Learning no los va a reconocer asi"
   ]
  },
  {
   "cell_type": "code",
   "execution_count": 37,
   "metadata": {},
   "outputs": [],
   "source": [
    "# Si vemos los datos 'sqfeet', 'beds', 'baths', 'lat' y 'long' se desvian muchisimo respecto a los otros.\n",
    "# Esto puede causar problemas en nuestro modelo ya que toma valores mas grandes como mas 'importantes'\n",
    "# Asi que vamos a escalarlos usando StandardScaler"
   ]
  },
  {
   "cell_type": "code",
   "execution_count": 61,
   "metadata": {},
   "outputs": [],
   "source": [
    "from sklearn.preprocessing import StandardScaler\n",
    "\n",
    "scaler = StandardScaler()"
   ]
  },
  {
   "cell_type": "code",
   "execution_count": 62,
   "metadata": {},
   "outputs": [],
   "source": [
    "sqfeet_train = np.array(df_train[\"sqfeet\"]).reshape(-1, 1)\n",
    "sqfeet_test = np.array(df_test[\"sqfeet\"]).reshape(-1, 1)\n",
    "df_train[\"sqfeet\"] = scaler.fit_transform(sqfeet_train)\n",
    "df_test[\"sqfeet\"] = scaler.fit_transform(sqfeet_test)"
   ]
  },
  {
   "cell_type": "code",
   "execution_count": 63,
   "metadata": {},
   "outputs": [],
   "source": [
    "beds_train = np.array(df_train['beds']).reshape(-1, 1)\n",
    "baths_train = np.array(df_train['baths']).reshape(-1, 1)\n",
    "lat_train = np.array(df_train['lat']).reshape(-1, 1)\n",
    "long_train = np.array(df_train['long']).reshape(-1, 1)\n",
    "\n",
    "beds_test = np.array(df_test['beds']).reshape(-1, 1)\n",
    "baths_test = np.array(df_test['baths']).reshape(-1, 1)\n",
    "lat_test = np.array(df_test['lat']).reshape(-1, 1)\n",
    "long_test = np.array(df_test['long']).reshape(-1, 1)\n",
    "\n",
    "df_train['beds'] = scaler.fit_transform(beds_train)\n",
    "df_train['baths'] = scaler.fit_transform(baths_train)\n",
    "df_train['lat'] = scaler.fit_transform(lat_train)\n",
    "df_train['long'] = scaler.fit_transform(long_train)\n",
    "\n",
    "df_test['beds'] = scaler.fit_transform(beds_test)\n",
    "df_test['baths'] = scaler.fit_transform(baths_test)\n",
    "df_test['lat'] = scaler.fit_transform(lat_test)\n",
    "df_test['long'] = scaler.fit_transform(long_test)"
   ]
  },
  {
   "cell_type": "code",
   "execution_count": 64,
   "metadata": {},
   "outputs": [
    {
     "data": {
      "text/html": [
       "<div>\n",
       "<style scoped>\n",
       "    .dataframe tbody tr th:only-of-type {\n",
       "        vertical-align: middle;\n",
       "    }\n",
       "\n",
       "    .dataframe tbody tr th {\n",
       "        vertical-align: top;\n",
       "    }\n",
       "\n",
       "    .dataframe thead th {\n",
       "        text-align: right;\n",
       "    }\n",
       "</style>\n",
       "<table border=\"1\" class=\"dataframe\">\n",
       "  <thead>\n",
       "    <tr style=\"text-align: right;\">\n",
       "      <th></th>\n",
       "      <th>region</th>\n",
       "      <th>price</th>\n",
       "      <th>type</th>\n",
       "      <th>sqfeet</th>\n",
       "      <th>beds</th>\n",
       "      <th>baths</th>\n",
       "      <th>cats_allowed</th>\n",
       "      <th>dogs_allowed</th>\n",
       "      <th>smoking_allowed</th>\n",
       "      <th>wheelchair_access</th>\n",
       "      <th>electric_vehicle_charge</th>\n",
       "      <th>comes_furnished</th>\n",
       "      <th>laundry_options</th>\n",
       "      <th>parking_options</th>\n",
       "      <th>lat</th>\n",
       "      <th>long</th>\n",
       "      <th>state</th>\n",
       "    </tr>\n",
       "  </thead>\n",
       "  <tbody>\n",
       "    <tr>\n",
       "      <th>0</th>\n",
       "      <td>33</td>\n",
       "      <td>0</td>\n",
       "      <td>6</td>\n",
       "      <td>0.006622</td>\n",
       "      <td>0.030610</td>\n",
       "      <td>0.854361</td>\n",
       "      <td>1</td>\n",
       "      <td>1</td>\n",
       "      <td>1</td>\n",
       "      <td>0</td>\n",
       "      <td>0</td>\n",
       "      <td>0</td>\n",
       "      <td>4</td>\n",
       "      <td>2</td>\n",
       "      <td>1.146546</td>\n",
       "      <td>-1.425759</td>\n",
       "      <td>13</td>\n",
       "    </tr>\n",
       "    <tr>\n",
       "      <th>1</th>\n",
       "      <td>64</td>\n",
       "      <td>0</td>\n",
       "      <td>0</td>\n",
       "      <td>-0.018445</td>\n",
       "      <td>-0.285577</td>\n",
       "      <td>-0.789714</td>\n",
       "      <td>1</td>\n",
       "      <td>1</td>\n",
       "      <td>1</td>\n",
       "      <td>0</td>\n",
       "      <td>0</td>\n",
       "      <td>0</td>\n",
       "      <td>4</td>\n",
       "      <td>1</td>\n",
       "      <td>0.302909</td>\n",
       "      <td>-0.732693</td>\n",
       "      <td>5</td>\n",
       "    </tr>\n",
       "    <tr>\n",
       "      <th>2</th>\n",
       "      <td>236</td>\n",
       "      <td>0</td>\n",
       "      <td>0</td>\n",
       "      <td>-0.008240</td>\n",
       "      <td>0.030610</td>\n",
       "      <td>0.854361</td>\n",
       "      <td>0</td>\n",
       "      <td>0</td>\n",
       "      <td>1</td>\n",
       "      <td>0</td>\n",
       "      <td>0</td>\n",
       "      <td>0</td>\n",
       "      <td>3</td>\n",
       "      <td>4</td>\n",
       "      <td>-0.080226</td>\n",
       "      <td>1.000163</td>\n",
       "      <td>45</td>\n",
       "    </tr>\n",
       "    <tr>\n",
       "      <th>3</th>\n",
       "      <td>269</td>\n",
       "      <td>0</td>\n",
       "      <td>6</td>\n",
       "      <td>0.019949</td>\n",
       "      <td>0.346798</td>\n",
       "      <td>0.854361</td>\n",
       "      <td>1</td>\n",
       "      <td>1</td>\n",
       "      <td>1</td>\n",
       "      <td>0</td>\n",
       "      <td>0</td>\n",
       "      <td>0</td>\n",
       "      <td>4</td>\n",
       "      <td>7</td>\n",
       "      <td>-0.663534</td>\n",
       "      <td>-1.173300</td>\n",
       "      <td>3</td>\n",
       "    </tr>\n",
       "    <tr>\n",
       "      <th>4</th>\n",
       "      <td>230</td>\n",
       "      <td>1</td>\n",
       "      <td>0</td>\n",
       "      <td>-0.018148</td>\n",
       "      <td>-0.285577</td>\n",
       "      <td>-0.789714</td>\n",
       "      <td>1</td>\n",
       "      <td>1</td>\n",
       "      <td>1</td>\n",
       "      <td>0</td>\n",
       "      <td>0</td>\n",
       "      <td>0</td>\n",
       "      <td>4</td>\n",
       "      <td>1</td>\n",
       "      <td>-0.212549</td>\n",
       "      <td>0.364632</td>\n",
       "      <td>42</td>\n",
       "    </tr>\n",
       "  </tbody>\n",
       "</table>\n",
       "</div>"
      ],
      "text/plain": [
       "   region  price  type    sqfeet      beds     baths  cats_allowed  \\\n",
       "0      33      0     6  0.006622  0.030610  0.854361             1   \n",
       "1      64      0     0 -0.018445 -0.285577 -0.789714             1   \n",
       "2     236      0     0 -0.008240  0.030610  0.854361             0   \n",
       "3     269      0     6  0.019949  0.346798  0.854361             1   \n",
       "4     230      1     0 -0.018148 -0.285577 -0.789714             1   \n",
       "\n",
       "   dogs_allowed  smoking_allowed  wheelchair_access  electric_vehicle_charge  \\\n",
       "0             1                1                  0                        0   \n",
       "1             1                1                  0                        0   \n",
       "2             0                1                  0                        0   \n",
       "3             1                1                  0                        0   \n",
       "4             1                1                  0                        0   \n",
       "\n",
       "   comes_furnished  laundry_options  parking_options       lat      long  \\\n",
       "0                0                4                2  1.146546 -1.425759   \n",
       "1                0                4                1  0.302909 -0.732693   \n",
       "2                0                3                4 -0.080226  1.000163   \n",
       "3                0                4                7 -0.663534 -1.173300   \n",
       "4                0                4                1 -0.212549  0.364632   \n",
       "\n",
       "   state  \n",
       "0     13  \n",
       "1      5  \n",
       "2     45  \n",
       "3      3  \n",
       "4     42  "
      ]
     },
     "execution_count": 64,
     "metadata": {},
     "output_type": "execute_result"
    }
   ],
   "source": [
    "df_train.head()"
   ]
  },
  {
   "cell_type": "code",
   "execution_count": 65,
   "metadata": {},
   "outputs": [
    {
     "data": {
      "text/html": [
       "<div>\n",
       "<style scoped>\n",
       "    .dataframe tbody tr th:only-of-type {\n",
       "        vertical-align: middle;\n",
       "    }\n",
       "\n",
       "    .dataframe tbody tr th {\n",
       "        vertical-align: top;\n",
       "    }\n",
       "\n",
       "    .dataframe thead th {\n",
       "        text-align: right;\n",
       "    }\n",
       "</style>\n",
       "<table border=\"1\" class=\"dataframe\">\n",
       "  <thead>\n",
       "    <tr style=\"text-align: right;\">\n",
       "      <th></th>\n",
       "      <th>region</th>\n",
       "      <th>type</th>\n",
       "      <th>sqfeet</th>\n",
       "      <th>beds</th>\n",
       "      <th>baths</th>\n",
       "      <th>cats_allowed</th>\n",
       "      <th>dogs_allowed</th>\n",
       "      <th>smoking_allowed</th>\n",
       "      <th>wheelchair_access</th>\n",
       "      <th>electric_vehicle_charge</th>\n",
       "      <th>comes_furnished</th>\n",
       "      <th>laundry_options</th>\n",
       "      <th>parking_options</th>\n",
       "      <th>lat</th>\n",
       "      <th>long</th>\n",
       "      <th>state</th>\n",
       "    </tr>\n",
       "  </thead>\n",
       "  <tbody>\n",
       "    <tr>\n",
       "      <th>0</th>\n",
       "      <td>9</td>\n",
       "      <td>8</td>\n",
       "      <td>0.497780</td>\n",
       "      <td>0.189793</td>\n",
       "      <td>0.736728</td>\n",
       "      <td>0</td>\n",
       "      <td>0</td>\n",
       "      <td>1</td>\n",
       "      <td>0</td>\n",
       "      <td>0</td>\n",
       "      <td>0</td>\n",
       "      <td>4</td>\n",
       "      <td>4</td>\n",
       "      <td>0.966613</td>\n",
       "      <td>0.554921</td>\n",
       "      <td>22</td>\n",
       "    </tr>\n",
       "    <tr>\n",
       "      <th>1</th>\n",
       "      <td>370</td>\n",
       "      <td>0</td>\n",
       "      <td>0.069785</td>\n",
       "      <td>0.013283</td>\n",
       "      <td>-0.691397</td>\n",
       "      <td>0</td>\n",
       "      <td>0</td>\n",
       "      <td>1</td>\n",
       "      <td>0</td>\n",
       "      <td>0</td>\n",
       "      <td>0</td>\n",
       "      <td>3</td>\n",
       "      <td>4</td>\n",
       "      <td>1.222764</td>\n",
       "      <td>1.230279</td>\n",
       "      <td>46</td>\n",
       "    </tr>\n",
       "    <tr>\n",
       "      <th>2</th>\n",
       "      <td>9</td>\n",
       "      <td>0</td>\n",
       "      <td>0.215361</td>\n",
       "      <td>0.013283</td>\n",
       "      <td>0.736728</td>\n",
       "      <td>1</td>\n",
       "      <td>1</td>\n",
       "      <td>1</td>\n",
       "      <td>1</td>\n",
       "      <td>0</td>\n",
       "      <td>0</td>\n",
       "      <td>4</td>\n",
       "      <td>1</td>\n",
       "      <td>0.914855</td>\n",
       "      <td>0.542979</td>\n",
       "      <td>22</td>\n",
       "    </tr>\n",
       "    <tr>\n",
       "      <th>3</th>\n",
       "      <td>112</td>\n",
       "      <td>0</td>\n",
       "      <td>0.404611</td>\n",
       "      <td>0.013283</td>\n",
       "      <td>1.450791</td>\n",
       "      <td>1</td>\n",
       "      <td>1</td>\n",
       "      <td>0</td>\n",
       "      <td>0</td>\n",
       "      <td>0</td>\n",
       "      <td>0</td>\n",
       "      <td>4</td>\n",
       "      <td>0</td>\n",
       "      <td>0.605306</td>\n",
       "      <td>-0.759873</td>\n",
       "      <td>5</td>\n",
       "    </tr>\n",
       "    <tr>\n",
       "      <th>4</th>\n",
       "      <td>53</td>\n",
       "      <td>0</td>\n",
       "      <td>-0.318904</td>\n",
       "      <td>0.013283</td>\n",
       "      <td>-0.691397</td>\n",
       "      <td>1</td>\n",
       "      <td>1</td>\n",
       "      <td>1</td>\n",
       "      <td>0</td>\n",
       "      <td>0</td>\n",
       "      <td>0</td>\n",
       "      <td>1</td>\n",
       "      <td>7</td>\n",
       "      <td>0.157771</td>\n",
       "      <td>0.862207</td>\n",
       "      <td>45</td>\n",
       "    </tr>\n",
       "  </tbody>\n",
       "</table>\n",
       "</div>"
      ],
      "text/plain": [
       "   region  type    sqfeet      beds     baths  cats_allowed  dogs_allowed  \\\n",
       "0       9     8  0.497780  0.189793  0.736728             0             0   \n",
       "1     370     0  0.069785  0.013283 -0.691397             0             0   \n",
       "2       9     0  0.215361  0.013283  0.736728             1             1   \n",
       "3     112     0  0.404611  0.013283  1.450791             1             1   \n",
       "4      53     0 -0.318904  0.013283 -0.691397             1             1   \n",
       "\n",
       "   smoking_allowed  wheelchair_access  electric_vehicle_charge  \\\n",
       "0                1                  0                        0   \n",
       "1                1                  0                        0   \n",
       "2                1                  1                        0   \n",
       "3                0                  0                        0   \n",
       "4                1                  0                        0   \n",
       "\n",
       "   comes_furnished  laundry_options  parking_options       lat      long  \\\n",
       "0                0                4                4  0.966613  0.554921   \n",
       "1                0                3                4  1.222764  1.230279   \n",
       "2                0                4                1  0.914855  0.542979   \n",
       "3                0                4                0  0.605306 -0.759873   \n",
       "4                0                1                7  0.157771  0.862207   \n",
       "\n",
       "   state  \n",
       "0     22  \n",
       "1     46  \n",
       "2     22  \n",
       "3      5  \n",
       "4     45  "
      ]
     },
     "execution_count": 65,
     "metadata": {},
     "output_type": "execute_result"
    }
   ],
   "source": [
    "df_test.head()"
   ]
  },
  {
   "cell_type": "code",
   "execution_count": 66,
   "metadata": {},
   "outputs": [
    {
     "data": {
      "text/plain": [
       "region                     0\n",
       "price                      0\n",
       "type                       0\n",
       "sqfeet                     0\n",
       "beds                       0\n",
       "baths                      0\n",
       "cats_allowed               0\n",
       "dogs_allowed               0\n",
       "smoking_allowed            0\n",
       "wheelchair_access          0\n",
       "electric_vehicle_charge    0\n",
       "comes_furnished            0\n",
       "laundry_options            0\n",
       "parking_options            0\n",
       "lat                        0\n",
       "long                       0\n",
       "state                      0\n",
       "dtype: int64"
      ]
     },
     "execution_count": 66,
     "metadata": {},
     "output_type": "execute_result"
    }
   ],
   "source": [
    "df_train.isna().sum()"
   ]
  },
  {
   "cell_type": "code",
   "execution_count": 44,
   "metadata": {},
   "outputs": [],
   "source": [
    "# Ahora vamos a definir los sets de entrenamiento, quitamos la columna de Precio ya que no la queremos involucrar en nuestro entrenamiento\n",
    "# Luego definimos la variable de Price como nuestra variable Target \n",
    "# X_predict es nuestro set con el cual predeciremos la variable target"
   ]
  },
  {
   "cell_type": "code",
   "execution_count": 67,
   "metadata": {},
   "outputs": [],
   "source": [
    "X = df_train.drop(['price'], axis=1)\n",
    "y = df_train['price']\n",
    "X_predict = df_test"
   ]
  },
  {
   "cell_type": "code",
   "execution_count": 46,
   "metadata": {},
   "outputs": [],
   "source": [
    "# Dividimos nuestro set de entrenamiento, esto nos ayudara a evaluar el performance de nuestro modelo y a que no haya overfitting"
   ]
  },
  {
   "cell_type": "code",
   "execution_count": 68,
   "metadata": {},
   "outputs": [],
   "source": [
    "from sklearn.model_selection import train_test_split\n",
    "\n",
    "X_train, X_test, y_train, y_test = train_test_split(X, y, test_size = 0.2, random_state = 42)"
   ]
  },
  {
   "cell_type": "code",
   "execution_count": 48,
   "metadata": {},
   "outputs": [],
   "source": [
    "# Para este proyecto estaremos probando el modelo de Arbol de Decision, con una profundidad de 5 niveles "
   ]
  },
  {
   "cell_type": "code",
   "execution_count": 69,
   "metadata": {},
   "outputs": [],
   "source": [
    "from sklearn.tree import DecisionTreeClassifier\n",
    "\n",
    "# Instanciamos un objeto de la clase DecisionTreeClassifier\n",
    "\n",
    "clf = DecisionTreeClassifier(max_depth = 5, random_state = 42) "
   ]
  },
  {
   "cell_type": "code",
   "execution_count": 70,
   "metadata": {},
   "outputs": [
    {
     "data": {
      "text/html": [
       "<style>#sk-container-id-1 {color: black;background-color: white;}#sk-container-id-1 pre{padding: 0;}#sk-container-id-1 div.sk-toggleable {background-color: white;}#sk-container-id-1 label.sk-toggleable__label {cursor: pointer;display: block;width: 100%;margin-bottom: 0;padding: 0.3em;box-sizing: border-box;text-align: center;}#sk-container-id-1 label.sk-toggleable__label-arrow:before {content: \"▸\";float: left;margin-right: 0.25em;color: #696969;}#sk-container-id-1 label.sk-toggleable__label-arrow:hover:before {color: black;}#sk-container-id-1 div.sk-estimator:hover label.sk-toggleable__label-arrow:before {color: black;}#sk-container-id-1 div.sk-toggleable__content {max-height: 0;max-width: 0;overflow: hidden;text-align: left;background-color: #f0f8ff;}#sk-container-id-1 div.sk-toggleable__content pre {margin: 0.2em;color: black;border-radius: 0.25em;background-color: #f0f8ff;}#sk-container-id-1 input.sk-toggleable__control:checked~div.sk-toggleable__content {max-height: 200px;max-width: 100%;overflow: auto;}#sk-container-id-1 input.sk-toggleable__control:checked~label.sk-toggleable__label-arrow:before {content: \"▾\";}#sk-container-id-1 div.sk-estimator input.sk-toggleable__control:checked~label.sk-toggleable__label {background-color: #d4ebff;}#sk-container-id-1 div.sk-label input.sk-toggleable__control:checked~label.sk-toggleable__label {background-color: #d4ebff;}#sk-container-id-1 input.sk-hidden--visually {border: 0;clip: rect(1px 1px 1px 1px);clip: rect(1px, 1px, 1px, 1px);height: 1px;margin: -1px;overflow: hidden;padding: 0;position: absolute;width: 1px;}#sk-container-id-1 div.sk-estimator {font-family: monospace;background-color: #f0f8ff;border: 1px dotted black;border-radius: 0.25em;box-sizing: border-box;margin-bottom: 0.5em;}#sk-container-id-1 div.sk-estimator:hover {background-color: #d4ebff;}#sk-container-id-1 div.sk-parallel-item::after {content: \"\";width: 100%;border-bottom: 1px solid gray;flex-grow: 1;}#sk-container-id-1 div.sk-label:hover label.sk-toggleable__label {background-color: #d4ebff;}#sk-container-id-1 div.sk-serial::before {content: \"\";position: absolute;border-left: 1px solid gray;box-sizing: border-box;top: 0;bottom: 0;left: 50%;z-index: 0;}#sk-container-id-1 div.sk-serial {display: flex;flex-direction: column;align-items: center;background-color: white;padding-right: 0.2em;padding-left: 0.2em;position: relative;}#sk-container-id-1 div.sk-item {position: relative;z-index: 1;}#sk-container-id-1 div.sk-parallel {display: flex;align-items: stretch;justify-content: center;background-color: white;position: relative;}#sk-container-id-1 div.sk-item::before, #sk-container-id-1 div.sk-parallel-item::before {content: \"\";position: absolute;border-left: 1px solid gray;box-sizing: border-box;top: 0;bottom: 0;left: 50%;z-index: -1;}#sk-container-id-1 div.sk-parallel-item {display: flex;flex-direction: column;z-index: 1;position: relative;background-color: white;}#sk-container-id-1 div.sk-parallel-item:first-child::after {align-self: flex-end;width: 50%;}#sk-container-id-1 div.sk-parallel-item:last-child::after {align-self: flex-start;width: 50%;}#sk-container-id-1 div.sk-parallel-item:only-child::after {width: 0;}#sk-container-id-1 div.sk-dashed-wrapped {border: 1px dashed gray;margin: 0 0.4em 0.5em 0.4em;box-sizing: border-box;padding-bottom: 0.4em;background-color: white;}#sk-container-id-1 div.sk-label label {font-family: monospace;font-weight: bold;display: inline-block;line-height: 1.2em;}#sk-container-id-1 div.sk-label-container {text-align: center;}#sk-container-id-1 div.sk-container {/* jupyter's `normalize.less` sets `[hidden] { display: none; }` but bootstrap.min.css set `[hidden] { display: none !important; }` so we also need the `!important` here to be able to override the default hidden behavior on the sphinx rendered scikit-learn.org. See: https://github.com/scikit-learn/scikit-learn/issues/21755 */display: inline-block !important;position: relative;}#sk-container-id-1 div.sk-text-repr-fallback {display: none;}</style><div id=\"sk-container-id-1\" class=\"sk-top-container\"><div class=\"sk-text-repr-fallback\"><pre>DecisionTreeClassifier(max_depth=5, random_state=42)</pre><b>In a Jupyter environment, please rerun this cell to show the HTML representation or trust the notebook. <br />On GitHub, the HTML representation is unable to render, please try loading this page with nbviewer.org.</b></div><div class=\"sk-container\" hidden><div class=\"sk-item\"><div class=\"sk-estimator sk-toggleable\"><input class=\"sk-toggleable__control sk-hidden--visually\" id=\"sk-estimator-id-1\" type=\"checkbox\" checked><label for=\"sk-estimator-id-1\" class=\"sk-toggleable__label sk-toggleable__label-arrow\">DecisionTreeClassifier</label><div class=\"sk-toggleable__content\"><pre>DecisionTreeClassifier(max_depth=5, random_state=42)</pre></div></div></div></div></div>"
      ],
      "text/plain": [
       "DecisionTreeClassifier(max_depth=5, random_state=42)"
      ]
     },
     "execution_count": 70,
     "metadata": {},
     "output_type": "execute_result"
    }
   ],
   "source": [
    "# Entrenamos el modelo\n",
    "\n",
    "clf.fit(X_train.values,y_train.values)"
   ]
  },
  {
   "cell_type": "code",
   "execution_count": 71,
   "metadata": {},
   "outputs": [],
   "source": [
    "# Predecimos sobre nuestro set de entrenamieto\n",
    "\n",
    "y_train_pred = clf.predict(X_train.values)\n",
    "\n",
    "# Predecimos sobre nuestro set de testeo\n",
    "\n",
    "y_test_pred = clf.predict(X_test.values)"
   ]
  },
  {
   "cell_type": "code",
   "execution_count": 72,
   "metadata": {},
   "outputs": [
    {
     "name": "stdout",
     "output_type": "stream",
     "text": [
      "Precisión en el set de entrenamiento:  0.76\n",
      "Precisión en el set de testeo:  0.76\n"
     ]
    }
   ],
   "source": [
    "from sklearn.metrics import accuracy_score  # Vemos la precision del modelo\n",
    "\n",
    "print('Precisión en el set de entrenamiento: {0: .2f}'.format(clf.score(X_train, y_train)))\n",
    "print('Precisión en el set de testeo: {0: .2f}'.format(clf.score(X_test, y_test)))"
   ]
  },
  {
   "cell_type": "code",
   "execution_count": 73,
   "metadata": {},
   "outputs": [
    {
     "name": "stdout",
     "output_type": "stream",
     "text": [
      "0.7616745555299007\n"
     ]
    }
   ],
   "source": [
    "from sklearn.metrics import recall_score  # Hallamos el recall\n",
    "\n",
    "recall = recall_score(y_test, y_test_pred, average= 'micro')\n",
    "print(recall)"
   ]
  },
  {
   "cell_type": "code",
   "execution_count": 88,
   "metadata": {},
   "outputs": [],
   "source": [
    "# Ahora vamos a hacer las predicciones con el archivo .test que contiene 91000 filas y sacar esas predicciones a un .CSV\n",
    "\n",
    "predicciones_final = clf.predict(X_predict)\n",
    "\n",
    "predicciones = pd.DataFrame(predicciones_final, columns= ['pred'])\n",
    "\n",
    "predicciones.to_csv('NicoGit333.csv', index= False)"
   ]
  }
 ],
 "metadata": {
  "kernelspec": {
   "display_name": "Python 3",
   "language": "python",
   "name": "python3"
  },
  "language_info": {
   "codemirror_mode": {
    "name": "ipython",
    "version": 3
   },
   "file_extension": ".py",
   "mimetype": "text/x-python",
   "name": "python",
   "nbconvert_exporter": "python",
   "pygments_lexer": "ipython3",
   "version": "3.10.5"
  },
  "orig_nbformat": 4,
  "vscode": {
   "interpreter": {
    "hash": "ab238bbf63de094432c0d8aa4e8da5df7baef3b45281cca63ff78dcb30ea1a23"
   }
  }
 },
 "nbformat": 4,
 "nbformat_minor": 2
}
